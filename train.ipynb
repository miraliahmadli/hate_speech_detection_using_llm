{
 "cells": [
  {
   "cell_type": "code",
   "execution_count": null,
   "id": "5013ea93-fd98-42c1-ba4c-26c4cb6f857b",
   "metadata": {},
   "outputs": [],
   "source": [
    "%load_ext autoreload\n",
    "%autoreload 2"
   ]
  },
  {
   "cell_type": "code",
   "execution_count": 1,
   "id": "02658730-6bd4-41b7-b6c6-f900464064c2",
   "metadata": {},
   "outputs": [
    {
     "name": "stderr",
     "output_type": "stream",
     "text": [
      "/home/xwanyun/miniconda3/envs/llm/lib/python3.10/site-packages/tqdm/auto.py:21: TqdmWarning: IProgress not found. Please update jupyter and ipywidgets. See https://ipywidgets.readthedocs.io/en/stable/user_install.html\n",
      "  from .autonotebook import tqdm as notebook_tqdm\n"
     ]
    }
   ],
   "source": [
    "import pandas as pd\n",
    "import torch\n",
    "from sklearn.model_selection import train_test_split\n",
    "from datasets import concatenate_datasets\n",
    "\n",
    "from models.model_base import sft_pipeline\n",
    "from dataloaders.common_utils import *\n",
    "\n",
    "import os\n",
    "os.environ['CUDA_VISIBLE_DEVICES'] = '7'"
   ]
  },
  {
   "cell_type": "code",
   "execution_count": 2,
   "id": "12c05f43-00af-4221-ba5c-ae0d45b5565b",
   "metadata": {},
   "outputs": [],
   "source": [
    "MODEL_NAME = 'distilbert-base-uncased'\n",
    "MAX_LEN = 256\n",
    "TRAIN_BATCH_SIZE = 128\n",
    "EVAL_BATCH_SIZE = 128\n",
    "EPOCHS = 3\n",
    "LEARNING_RATE = 1e-5\n",
    "NUM_LABELS = 2\n",
    "OUTPUT_DIR = './checkpoints'\n",
    "CKPT = './checkpoints/finetune_model'"
   ]
  },
  {
   "cell_type": "code",
   "execution_count": 3,
   "id": "1ab90cca-3851-428f-a4e1-6e03c380469e",
   "metadata": {},
   "outputs": [],
   "source": [
    "tg_train, tg_val = load_and_process_toxigen()\n",
    "tw_train, tw_val = load_and_process_twitter_data()\n",
    "berkeley_train, berkeley_val = load_and_process_berkeley_data()\n",
    "gender_train, gender_val = load_and_process_gender_hate_speech_data()\n",
    "cad_train, cad_val = load_and_process_cad()\n",
    "train_datasets = [tg_train, tw_train, berkeley_train, gender_train, cad_train]\n",
    "val_datasets = [tg_val, tw_val, berkeley_val, gender_val, cad_val]\n",
    "\n",
    "concat_train = concatenate_datasets(train_datasets)\n",
    "concat_val = concatenate_datasets(val_datasets)\n"
   ]
  },
  {
   "cell_type": "code",
   "execution_count": 4,
   "id": "10153ae1-ae5b-4549-81d7-1e95a92fe2e5",
   "metadata": {},
   "outputs": [
    {
     "name": "stderr",
     "output_type": "stream",
     "text": [
      "/home/xwanyun/miniconda3/envs/llm/lib/python3.10/site-packages/huggingface_hub/file_download.py:1132: FutureWarning: `resume_download` is deprecated and will be removed in version 1.0.0. Downloads always resume when possible. If you want to force a new download, use `force_download=True`.\n",
      "  warnings.warn(\n",
      "Some weights of DistilBertForSequenceClassification were not initialized from the model checkpoint at distilbert-base-uncased and are newly initialized: ['classifier.bias', 'classifier.weight', 'pre_classifier.bias', 'pre_classifier.weight']\n",
      "You should probably TRAIN this model on a down-stream task to be able to use it for predictions and inference.\n"
     ]
    },
    {
     "name": "stdout",
     "output_type": "stream",
     "text": [
      "Loaded Models\n",
      "Loaded Datasets\n"
     ]
    },
    {
     "name": "stderr",
     "output_type": "stream",
     "text": [
      "Detected kernel version 5.4.0, which is below the recommended minimum of 5.5.0; this can cause the process to hang. It is recommended to upgrade the kernel to the minimum version or higher.\n",
      "\n",
      "No chat template is defined for this tokenizer - using a default chat template that implements the ChatML format (without BOS/EOS tokens!). If the default is not appropriate for your model, please set `tokenizer.chat_template` to an appropriate template. See https://huggingface.co/docs/transformers/main/chat_templating for more information.\n",
      "\n"
     ]
    },
    {
     "ename": "",
     "evalue": "",
     "output_type": "error",
     "traceback": [
      "\u001b[1;31mThe Kernel crashed while executing code in the current cell or a previous cell. \n",
      "\u001b[1;31mPlease review the code in the cell(s) to identify a possible cause of the failure. \n",
      "\u001b[1;31mClick <a href='https://aka.ms/vscodeJupyterKernelCrash'>here</a> for more info. \n",
      "\u001b[1;31mView Jupyter <a href='command:jupyter.viewOutput'>log</a> for further details."
     ]
    }
   ],
   "source": [
    "sft_pipeline(\n",
    "    model_name=MODEL_NAME, \n",
    "    train_data=concat_train, \n",
    "    test_data=concat_val, \n",
    "    max_len=MAX_LEN, \n",
    "    train_batch_size=TRAIN_BATCH_SIZE, \n",
    "    eval_batch_size=EVAL_BATCH_SIZE, \n",
    "    learning_rate=LEARNING_RATE, \n",
    "    epochs=EPOCHS, \n",
    "    num_labels=NUM_LABELS,\n",
    "    output_dir=OUTPUT_DIR,\n",
    "    ckpt_path=CKPT,\n",
    ")"
   ]
  },
  {
   "cell_type": "code",
   "execution_count": null,
   "id": "286de4f9-7fe0-41fe-9d99-d0c8e5772c12",
   "metadata": {},
   "outputs": [],
   "source": []
  }
 ],
 "metadata": {
  "kernelspec": {
   "display_name": "Python 3 (ipykernel)",
   "language": "python",
   "name": "python3"
  },
  "language_info": {
   "codemirror_mode": {
    "name": "ipython",
    "version": 3
   },
   "file_extension": ".py",
   "mimetype": "text/x-python",
   "name": "python",
   "nbconvert_exporter": "python",
   "pygments_lexer": "ipython3",
   "version": "3.10.14"
  }
 },
 "nbformat": 4,
 "nbformat_minor": 5
}
