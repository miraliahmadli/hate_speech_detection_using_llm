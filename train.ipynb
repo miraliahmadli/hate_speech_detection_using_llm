{
 "cells": [
  {
   "cell_type": "code",
   "execution_count": 1,
   "id": "5013ea93-fd98-42c1-ba4c-26c4cb6f857b",
   "metadata": {},
   "outputs": [],
   "source": [
    "%load_ext autoreload\n",
    "%autoreload 2"
   ]
  },
  {
   "cell_type": "code",
   "execution_count": 2,
   "id": "02658730-6bd4-41b7-b6c6-f900464064c2",
   "metadata": {},
   "outputs": [],
   "source": [
    "import torch\n",
    "\n",
    "from models.model_base import sft_pipeline"
   ]
  },
  {
   "cell_type": "code",
   "execution_count": 3,
   "id": "12c05f43-00af-4221-ba5c-ae0d45b5565b",
   "metadata": {},
   "outputs": [],
   "source": [
    "MODEL_NAME = 'distilbert-base-uncased'\n",
    "MAX_LEN = 256\n",
    "TRAIN_BATCH_SIZE = 128\n",
    "EVAL_BATCH_SIZE = 128\n",
    "EPOCHS = 10\n",
    "LEARNING_RATE = 1e-5\n",
    "NUM_LABELS = 2\n",
    "OUTPUT_DIR = './checkpoints'\n",
    "CKPT = './checkpoints/finetune_model'"
   ]
  },
  {
   "cell_type": "code",
   "execution_count": 4,
   "id": "1970336d-46c1-46b5-9eca-fc8521d69cb3",
   "metadata": {},
   "outputs": [],
   "source": [
    "from datasets import load_dataset\n",
    "dataset = load_dataset('tweets_hate_speech_detection')\n"
   ]
  },
  {
   "cell_type": "code",
   "execution_count": 5,
   "id": "94000666-523d-4efe-8126-5623f0cc955f",
   "metadata": {},
   "outputs": [
    {
     "data": {
      "text/plain": [
       "(25569,\n",
       " {'label': [0],\n",
       "  'text': ['happy puppy ð\\x9f\\x90¶ð\\x9f\\x92\\x95 #london   #puppy #thursdaymotivation ']},\n",
       " {0, 1},\n",
       " {0, 1})"
      ]
     },
     "execution_count": 5,
     "metadata": {},
     "output_type": "execute_result"
    }
   ],
   "source": [
    "trainval_data, test_data = dataset['train'], dataset['test']\n",
    "trainval_data = trainval_data.rename_column('tweet', 'text')\n",
    "test_data = test_data.rename_column('tweet', 'text')\n",
    "splitted = trainval_data.train_test_split(test_size=0.2, stratify_by_column=\"label\")\n",
    "train_data, val_data = splitted['train'], splitted['test']\n",
    "len(train_data), train_data[:1], set(train_data['label']), set(val_data['label'])"
   ]
  },
  {
   "cell_type": "code",
   "execution_count": null,
   "id": "de63e3ac-df28-4275-aaef-71fd93070522",
   "metadata": {},
   "outputs": [],
   "source": []
  },
  {
   "cell_type": "code",
   "execution_count": null,
   "id": "10153ae1-ae5b-4549-81d7-1e95a92fe2e5",
   "metadata": {},
   "outputs": [
    {
     "name": "stderr",
     "output_type": "stream",
     "text": [
      "/home/ahmadli/miniconda3/envs/hate_speech/lib/python3.12/site-packages/huggingface_hub/file_download.py:1132: FutureWarning: `resume_download` is deprecated and will be removed in version 1.0.0. Downloads always resume when possible. If you want to force a new download, use `force_download=True`.\n",
      "  warnings.warn(\n",
      "Some weights of DistilBertForSequenceClassification were not initialized from the model checkpoint at distilbert-base-uncased and are newly initialized: ['classifier.bias', 'classifier.weight', 'pre_classifier.bias', 'pre_classifier.weight']\n",
      "You should probably TRAIN this model on a down-stream task to be able to use it for predictions and inference.\n"
     ]
    },
    {
     "name": "stdout",
     "output_type": "stream",
     "text": [
      "Loaded Models\n",
      "Loaded Datasets\n"
     ]
    },
    {
     "name": "stderr",
     "output_type": "stream",
     "text": [
      "\n",
      "No chat template is defined for this tokenizer - using a default chat template that implements the ChatML format (without BOS/EOS tokens!). If the default is not appropriate for your model, please set `tokenizer.chat_template` to an appropriate template. See https://huggingface.co/docs/transformers/main/chat_templating for more information.\n",
      "\n"
     ]
    },
    {
     "data": {
      "text/html": [
       "\n",
       "    <div>\n",
       "      \n",
       "      <progress value='1001' max='2000' style='width:300px; height:20px; vertical-align: middle;'></progress>\n",
       "      [1001/2000 14:39 < 14:39, 1.14 it/s, Epoch 5/10]\n",
       "    </div>\n",
       "    <table border=\"1\" class=\"dataframe\">\n",
       "  <thead>\n",
       " <tr style=\"text-align: left;\">\n",
       "      <th>Step</th>\n",
       "      <th>Training Loss</th>\n",
       "      <th>Validation Loss</th>\n",
       "      <th>Accuracy</th>\n",
       "    </tr>\n",
       "  </thead>\n",
       "  <tbody>\n",
       "    <tr>\n",
       "      <td>500</td>\n",
       "      <td>0.139700</td>\n",
       "      <td>0.103768</td>\n",
       "      <td>0.963397</td>\n",
       "    </tr>\n",
       "  </tbody>\n",
       "</table><p>"
      ],
      "text/plain": [
       "<IPython.core.display.HTML object>"
      ]
     },
     "metadata": {},
     "output_type": "display_data"
    }
   ],
   "source": [
    "sft_pipeline(\n",
    "    model_name=MODEL_NAME, \n",
    "    train_data=train_data, \n",
    "    test_data=val_data, \n",
    "    max_len=MAX_LEN, \n",
    "    train_batch_size=TRAIN_BATCH_SIZE, \n",
    "    eval_batch_size=EVAL_BATCH_SIZE, \n",
    "    learning_rate=LEARNING_RATE, \n",
    "    epochs=EPOCHS, \n",
    "    num_labels=NUM_LABELS,\n",
    "    output_dir=OUTPUT_DIR,\n",
    "    ckpt_path=CKPT,\n",
    ")"
   ]
  },
  {
   "cell_type": "code",
   "execution_count": null,
   "id": "ad358d38-8ff4-44bc-bbca-ee0a0afb2cc0",
   "metadata": {},
   "outputs": [],
   "source": []
  }
 ],
 "metadata": {
  "kernelspec": {
   "display_name": "Python 3 (ipykernel)",
   "language": "python",
   "name": "python3"
  },
  "language_info": {
   "codemirror_mode": {
    "name": "ipython",
    "version": 3
   },
   "file_extension": ".py",
   "mimetype": "text/x-python",
   "name": "python",
   "nbconvert_exporter": "python",
   "pygments_lexer": "ipython3",
   "version": "3.12.3"
  }
 },
 "nbformat": 4,
 "nbformat_minor": 5
}
