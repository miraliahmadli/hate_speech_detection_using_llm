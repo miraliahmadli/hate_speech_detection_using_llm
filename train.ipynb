{
 "cells": [
  {
   "cell_type": "code",
   "execution_count": 9,
   "id": "5013ea93-fd98-42c1-ba4c-26c4cb6f857b",
   "metadata": {},
   "outputs": [
    {
     "name": "stdout",
     "output_type": "stream",
     "text": [
      "The autoreload extension is already loaded. To reload it, use:\n",
      "  %reload_ext autoreload\n"
     ]
    }
   ],
   "source": [
    "%load_ext autoreload\n",
    "%autoreload 2"
   ]
  },
  {
   "cell_type": "code",
   "execution_count": 59,
   "id": "02658730-6bd4-41b7-b6c6-f900464064c2",
   "metadata": {},
   "outputs": [],
   "source": [
    "import pandas as pd\n",
    "import torch\n",
    "from sklearn.model_selection import train_test_split\n",
    "from datasets import concatenate_datasets\n",
    "\n",
    "from models.model_base import sft_pipeline\n",
    "from dataloaders.common_utils import *"
   ]
  },
  {
   "cell_type": "code",
   "execution_count": 11,
   "id": "12c05f43-00af-4221-ba5c-ae0d45b5565b",
   "metadata": {},
   "outputs": [],
   "source": [
    "MODEL_NAME = 'distilbert-base-uncased'\n",
    "MAX_LEN = 256\n",
    "TRAIN_BATCH_SIZE = 128\n",
    "EVAL_BATCH_SIZE = 128\n",
    "EPOCHS = 10\n",
    "LEARNING_RATE = 1e-5\n",
    "NUM_LABELS = 2\n",
    "OUTPUT_DIR = './checkpoints'\n",
    "CKPT = './checkpoints/finetune_model'"
   ]
  },
  {
   "cell_type": "code",
   "execution_count": 94,
   "id": "1ab90cca-3851-428f-a4e1-6e03c380469e",
   "metadata": {},
   "outputs": [],
   "source": [
    "tg_train, tg_val = load_and_process_toxigen()\n",
    "tw_train, tw_val = load_and_process_twitter_data()\n",
    "berkeley_train, berkeley_val = load_and_process_berkeley_data()\n",
    "gender_train, gender_val = load_and_process_gender_hate_speech_data()\n",
    "cad_train, cad_val = load_and_process_cad()\n",
    "train_datasets = [tg_train, tw_train, berkeley_train, gender_train, cad_train]\n",
    "val_datasets = [tg_val, tw_val, berkeley_val, gender_val, cad_val]\n",
    "\n",
    "concat_train = concatenate_datasets(train_datasets)\n",
    "concat_val = concatenate_datasets(val_datasets)\n"
   ]
  },
  {
   "cell_type": "code",
   "execution_count": null,
   "id": "10153ae1-ae5b-4549-81d7-1e95a92fe2e5",
   "metadata": {},
   "outputs": [
    {
     "name": "stderr",
     "output_type": "stream",
     "text": [
      "/home/ahmadli/miniconda3/envs/hate_speech/lib/python3.12/site-packages/huggingface_hub/file_download.py:1132: FutureWarning: `resume_download` is deprecated and will be removed in version 1.0.0. Downloads always resume when possible. If you want to force a new download, use `force_download=True`.\n",
      "  warnings.warn(\n",
      "Some weights of DistilBertForSequenceClassification were not initialized from the model checkpoint at distilbert-base-uncased and are newly initialized: ['classifier.bias', 'classifier.weight', 'pre_classifier.bias', 'pre_classifier.weight']\n",
      "You should probably TRAIN this model on a down-stream task to be able to use it for predictions and inference.\n"
     ]
    },
    {
     "name": "stdout",
     "output_type": "stream",
     "text": [
      "Loaded Models\n",
      "Loaded Datasets\n"
     ]
    },
    {
     "data": {
      "text/html": [
       "\n",
       "    <div>\n",
       "      \n",
       "      <progress value='5' max='32900' style='width:300px; height:20px; vertical-align: middle;'></progress>\n",
       "      [    5/32900 00:02 < 7:53:45, 1.16 it/s, Epoch 0.00/10]\n",
       "    </div>\n",
       "    <table border=\"1\" class=\"dataframe\">\n",
       "  <thead>\n",
       " <tr style=\"text-align: left;\">\n",
       "      <th>Step</th>\n",
       "      <th>Training Loss</th>\n",
       "      <th>Validation Loss</th>\n",
       "    </tr>\n",
       "  </thead>\n",
       "  <tbody>\n",
       "  </tbody>\n",
       "</table><p>"
      ],
      "text/plain": [
       "<IPython.core.display.HTML object>"
      ]
     },
     "metadata": {},
     "output_type": "display_data"
    }
   ],
   "source": [
    "sft_pipeline(\n",
    "    model_name=MODEL_NAME, \n",
    "    train_data=concat_train, \n",
    "    test_data=concat_test, \n",
    "    max_len=MAX_LEN, \n",
    "    train_batch_size=TRAIN_BATCH_SIZE, \n",
    "    eval_batch_size=EVAL_BATCH_SIZE, \n",
    "    learning_rate=LEARNING_RATE, \n",
    "    epochs=EPOCHS, \n",
    "    num_labels=NUM_LABELS,\n",
    "    output_dir=OUTPUT_DIR,\n",
    "    ckpt_path=CKPT,\n",
    ")"
   ]
  },
  {
   "cell_type": "code",
   "execution_count": null,
   "id": "286de4f9-7fe0-41fe-9d99-d0c8e5772c12",
   "metadata": {},
   "outputs": [],
   "source": []
  }
 ],
 "metadata": {
  "kernelspec": {
   "display_name": "Python 3 (ipykernel)",
   "language": "python",
   "name": "python3"
  },
  "language_info": {
   "codemirror_mode": {
    "name": "ipython",
    "version": 3
   },
   "file_extension": ".py",
   "mimetype": "text/x-python",
   "name": "python",
   "nbconvert_exporter": "python",
   "pygments_lexer": "ipython3",
   "version": "3.12.3"
  }
 },
 "nbformat": 4,
 "nbformat_minor": 5
}
