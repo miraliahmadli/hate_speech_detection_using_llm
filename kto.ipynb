{
 "cells": [
  {
   "cell_type": "code",
   "execution_count": 1,
   "metadata": {},
   "outputs": [],
   "source": [
    "%load_ext autoreload\n",
    "%autoreload 2"
   ]
  },
  {
   "cell_type": "code",
   "execution_count": 2,
   "metadata": {},
   "outputs": [],
   "source": [
    "from trl import KTOConfig\n",
    "from peft import LoraConfig\n",
    "import os\n",
    "os.environ['WANDB_DISABLED'] = 'true'\n",
    "\n",
    "\n",
    "\n",
    "from models.model_kto import kto_pipeline\n",
    "from dataloaders.common_utils import *"
   ]
  },
  {
   "cell_type": "code",
   "execution_count": 3,
   "metadata": {},
   "outputs": [],
   "source": [
    "train, val = load_and_process_toxigen(kto=True)"
   ]
  },
  {
   "cell_type": "code",
   "execution_count": 4,
   "metadata": {},
   "outputs": [],
   "source": [
    "class Config:\n",
    "    beta = 0.1 # the beta parameter for DPO loss\n",
    "    desirable_weight = 1.0\n",
    "    undesirable_weight = 1.0\n",
    "\n",
    "    # training parameters\n",
    "    model_name_or_path = \"../checkpoint/kto\"\n",
    "    learning_rate = 5e-4\n",
    "    lr_scheduler_type = \"cosine\"\n",
    "    optimizer_type = \"paged_adamw_32bit\"\n",
    "    batch_size = 16\n",
    "    lora_alpha = 16\n",
    "    lora_dropout = 0.05\n",
    "    lora_r = 8\n",
    "\n",
    "    max_prompt_length = 256\n",
    "    max_length = 256\n",
    "    num_train_epochs = 5\n",
    "    logging_steps = 100\n",
    "    save_steps = 1000\n",
    "    eval_steps = 500\n",
    "    output_dir = \"./results\"\n",
    "    log_freq = 1\n",
    "\n",
    "    # instrumentation\n",
    "    report_to=None\n",
    "    seed = 0"
   ]
  },
  {
   "cell_type": "code",
   "execution_count": 5,
   "metadata": {},
   "outputs": [
    {
     "name": "stderr",
     "output_type": "stream",
     "text": [
      "Using the `WANDB_DISABLED` environment variable is deprecated and will be removed in v5. Use the --report_to flag to control the integrations used for logging result (for instance --report_to none).\n"
     ]
    }
   ],
   "source": [
    "training_args = KTOConfig(\n",
    "    beta=Config.beta,\n",
    "    desirable_weight=Config.desirable_weight,\n",
    "    undesirable_weight=Config.undesirable_weight,\n",
    "    per_device_train_batch_size=Config.batch_size,\n",
    "    num_train_epochs=Config.num_train_epochs,\n",
    "    logging_steps=Config.logging_steps,\n",
    "    save_steps=Config.save_steps,\n",
    "    learning_rate=Config.learning_rate,\n",
    "    evaluation_strategy=\"steps\",\n",
    "    eval_steps=Config.eval_steps,\n",
    "    output_dir=Config.output_dir,\n",
    "    lr_scheduler_type=Config.lr_scheduler_type,\n",
    "    optim=Config.optimizer_type,\n",
    "    bf16=False,\n",
    "    remove_unused_columns=False,\n",
    "    run_name=\"kto_toxigen\",\n",
    "    seed=Config.seed,\n",
    "    max_prompt_length=Config.max_prompt_length,\n",
    "    max_length=Config.max_length,\n",
    "    report_to=Config.report_to\n",
    ")\n",
    "\n",
    "peft_config = LoraConfig(\n",
    "    r=Config.lora_r,\n",
    "    lora_alpha=Config.lora_alpha,\n",
    "    lora_dropout=Config.lora_dropout,\n",
    "    target_modules=[\n",
    "        \"q_proj\",\n",
    "        \"v_proj\",\n",
    "        \"k_proj\",\n",
    "        \"out_proj\",\n",
    "        \"fc_in\",\n",
    "        \"fc_out\",\n",
    "        \"wte\",\n",
    "    ],\n",
    "    bias=\"none\",\n",
    "    task_type=\"CAUSAL_LM\",\n",
    ")"
   ]
  },
  {
   "cell_type": "code",
   "execution_count": 6,
   "metadata": {},
   "outputs": [],
   "source": [
    "MODEL_NAME = 'gpt2' # only accepts models with decoders\n"
   ]
  },
  {
   "cell_type": "code",
   "execution_count": 7,
   "metadata": {},
   "outputs": [
    {
     "data": {
      "application/vnd.jupyter.widget-view+json": {
       "model_id": "e966d8175c4f456a9442e3da7e9931ed",
       "version_major": 2,
       "version_minor": 0
      },
      "text/plain": [
       "Map (num_proc=8):   0%|          | 0/225855 [00:00<?, ? examples/s]"
      ]
     },
     "metadata": {},
     "output_type": "display_data"
    },
    {
     "data": {
      "application/vnd.jupyter.widget-view+json": {
       "model_id": "925006f3f3c94f84bc630a1d7aba0a4e",
       "version_major": 2,
       "version_minor": 0
      },
      "text/plain": [
       "Filter:   0%|          | 0/225855 [00:00<?, ? examples/s]"
      ]
     },
     "metadata": {},
     "output_type": "display_data"
    },
    {
     "data": {
      "application/vnd.jupyter.widget-view+json": {
       "model_id": "ef69d8fef48c4a85b1e0db2cc17e1a06",
       "version_major": 2,
       "version_minor": 0
      },
      "text/plain": [
       "Map (num_proc=8):   0%|          | 0/25096 [00:00<?, ? examples/s]"
      ]
     },
     "metadata": {},
     "output_type": "display_data"
    },
    {
     "data": {
      "application/vnd.jupyter.widget-view+json": {
       "model_id": "0c24f0b45b954f45b0545ddd7be679d5",
       "version_major": 2,
       "version_minor": 0
      },
      "text/plain": [
       "Filter:   0%|          | 0/25096 [00:00<?, ? examples/s]"
      ]
     },
     "metadata": {},
     "output_type": "display_data"
    }
   ],
   "source": [
    "def return_prompt_and_responses(samples):\n",
    "    return {\n",
    "        \"prompt\": samples[\"prompt\"],\n",
    "        \"completion\": samples[\"completion\"],\n",
    "        \"label\": samples[\"label\"],\n",
    "    }\n",
    "\n",
    "def filter_none_text(example, key='prompt'):\n",
    "    return example[key] is not None\n",
    "\n",
    "train = train.map(\n",
    "    return_prompt_and_responses,\n",
    "    batched=True,\n",
    "    num_proc=8,\n",
    ").filter(filter_none_text)\n",
    "\n",
    "val = val.map(\n",
    "    return_prompt_and_responses,\n",
    "    batched=True,\n",
    "    num_proc=8,\n",
    ").filter(filter_none_text)\n"
   ]
  },
  {
   "cell_type": "code",
   "execution_count": null,
   "metadata": {},
   "outputs": [
    {
     "name": "stderr",
     "output_type": "stream",
     "text": [
      "/home/ahmadli/miniconda3/envs/hate_speech/lib/python3.12/site-packages/huggingface_hub/file_download.py:1132: FutureWarning: `resume_download` is deprecated and will be removed in version 1.0.0. Downloads always resume when possible. If you want to force a new download, use `force_download=True`.\n",
      "  warnings.warn(\n"
     ]
    },
    {
     "data": {
      "application/vnd.jupyter.widget-view+json": {
       "model_id": "2087c19eed5644d982d37b011fa057a1",
       "version_major": 2,
       "version_minor": 0
      },
      "text/plain": [
       "Tokenizing train dataset:   0%|          | 0/225855 [00:00<?, ? examples/s]"
      ]
     },
     "metadata": {},
     "output_type": "display_data"
    },
    {
     "data": {
      "application/vnd.jupyter.widget-view+json": {
       "model_id": "826651c9ca1544bfa86f51d11d573845",
       "version_major": 2,
       "version_minor": 0
      },
      "text/plain": [
       "Extracting KL train dataset:   0%|          | 0/225855 [00:00<?, ? examples/s]"
      ]
     },
     "metadata": {},
     "output_type": "display_data"
    },
    {
     "data": {
      "application/vnd.jupyter.widget-view+json": {
       "model_id": "6f06973c7a2d4982bd2892f1b9b57a37",
       "version_major": 2,
       "version_minor": 0
      },
      "text/plain": [
       "Processing tokenized train dataset:   0%|          | 0/225855 [00:00<?, ? examples/s]"
      ]
     },
     "metadata": {},
     "output_type": "display_data"
    },
    {
     "data": {
      "application/vnd.jupyter.widget-view+json": {
       "model_id": "f48fa52e891a4d6aa3e07a6a9a7d037f",
       "version_major": 2,
       "version_minor": 0
      },
      "text/plain": [
       "Processing tokenized train KL dataset:   0%|          | 0/225855 [00:00<?, ? examples/s]"
      ]
     },
     "metadata": {},
     "output_type": "display_data"
    },
    {
     "data": {
      "application/vnd.jupyter.widget-view+json": {
       "model_id": "cf66e0350d5e4bf485fd0d2017de5f88",
       "version_major": 2,
       "version_minor": 0
      },
      "text/plain": [
       "Tokenizing eval dataset:   0%|          | 0/25096 [00:00<?, ? examples/s]"
      ]
     },
     "metadata": {},
     "output_type": "display_data"
    },
    {
     "data": {
      "application/vnd.jupyter.widget-view+json": {
       "model_id": "28cb5d1ca91845ad8419608835acd276",
       "version_major": 2,
       "version_minor": 0
      },
      "text/plain": [
       "Extracting eval KL dataset:   0%|          | 0/25096 [00:00<?, ? examples/s]"
      ]
     },
     "metadata": {},
     "output_type": "display_data"
    },
    {
     "data": {
      "application/vnd.jupyter.widget-view+json": {
       "model_id": "f9f1236688d4412b85a42aebbf3d8fa8",
       "version_major": 2,
       "version_minor": 0
      },
      "text/plain": [
       "Processing tokenized eval dataset:   0%|          | 0/25096 [00:00<?, ? examples/s]"
      ]
     },
     "metadata": {},
     "output_type": "display_data"
    },
    {
     "data": {
      "application/vnd.jupyter.widget-view+json": {
       "model_id": "b1e8558bb087472aa74143281c22d240",
       "version_major": 2,
       "version_minor": 0
      },
      "text/plain": [
       "Processing tokenized eval KL dataset:   0%|          | 0/25096 [00:00<?, ? examples/s]"
      ]
     },
     "metadata": {},
     "output_type": "display_data"
    },
    {
     "data": {
      "application/vnd.jupyter.widget-view+json": {
       "model_id": "cd565d4d357d45cfb8820ee80897ec69",
       "version_major": 2,
       "version_minor": 0
      },
      "text/plain": [
       "Filtering desirable examples:   0%|          | 0/225855 [00:00<?, ? examples/s]"
      ]
     },
     "metadata": {},
     "output_type": "display_data"
    },
    {
     "data": {
      "application/vnd.jupyter.widget-view+json": {
       "model_id": "883db1103ca641359ad485945950cb55",
       "version_major": 2,
       "version_minor": 0
      },
      "text/plain": [
       "Filtering undesirable examples:   0%|          | 0/225855 [00:00<?, ? examples/s]"
      ]
     },
     "metadata": {},
     "output_type": "display_data"
    },
    {
     "name": "stderr",
     "output_type": "stream",
     "text": [
      "Could not estimate the number of tokens of the input, floating-point operations will not be computed\n"
     ]
    },
    {
     "data": {
      "text/html": [
       "\n",
       "    <div>\n",
       "      \n",
       "      <progress value='468' max='70580' style='width:300px; height:20px; vertical-align: middle;'></progress>\n",
       "      [  468/70580 04:07 < 10:19:33, 1.89 it/s, Epoch 0.03/5]\n",
       "    </div>\n",
       "    <table border=\"1\" class=\"dataframe\">\n",
       "  <thead>\n",
       " <tr style=\"text-align: left;\">\n",
       "      <th>Step</th>\n",
       "      <th>Training Loss</th>\n",
       "      <th>Validation Loss</th>\n",
       "    </tr>\n",
       "  </thead>\n",
       "  <tbody>\n",
       "  </tbody>\n",
       "</table><p>"
      ],
      "text/plain": [
       "<IPython.core.display.HTML object>"
      ]
     },
     "metadata": {},
     "output_type": "display_data"
    }
   ],
   "source": [
    "kto_pipeline(MODEL_NAME, \n",
    "             training_args,\n",
    "             train,\n",
    "             val,\n",
    "             peft_config=peft_config,\n",
    "             ckpt_path=\"./checkpoints/final_kto_checkpoint\")"
   ]
  },
  {
   "cell_type": "code",
   "execution_count": null,
   "metadata": {},
   "outputs": [],
   "source": []
  }
 ],
 "metadata": {
  "kernelspec": {
   "display_name": "Python 3 (ipykernel)",
   "language": "python",
   "name": "python3"
  },
  "language_info": {
   "codemirror_mode": {
    "name": "ipython",
    "version": 3
   },
   "file_extension": ".py",
   "mimetype": "text/x-python",
   "name": "python",
   "nbconvert_exporter": "python",
   "pygments_lexer": "ipython3",
   "version": "3.12.3"
  }
 },
 "nbformat": 4,
 "nbformat_minor": 4
}
